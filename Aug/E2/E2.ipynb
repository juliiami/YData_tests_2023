{
 "cells": [
  {
   "cell_type": "markdown",
   "id": "3981cf78-b9c1-4eb2-ad12-c485afb525db",
   "metadata": {},
   "source": [
    "<h1 class=\"title\">(E2)&nbsp;Vehicles: Best Sellers</h1>\n",
    "<div><span>To solve this question you are required to <strong>write</strong></span><span><strong>&nbsp;code</strong>, </span><span>processing an input ﬁle.</span></div>\n",
    "<p><span>Use the dataset from the previous question (<strong>the correct result of E1</strong>) to ﬁnd how the model and type of vehicle aﬀects price. Analyze the number of ads and the average price per type and model in the following manner:&nbsp;</span></p>\n",
    "<p><strong>1:&nbsp;</strong>Calculate a new column:<span>&nbsp;</span><code><span>make</span></code>, based on<span>&nbsp;</span><span><code>model</code>&nbsp;</span>column – by separating the ﬁrst word in the model name (up to the 1st space). For example:<span>&nbsp;</span><span><code>model</code> = <em>“chevrolet silverado 1500”</em>; <code>make</code> = <em>“chevrolet”</em>.</span><br><br><strong>2:&nbsp;</strong>For each <span><code>vehicle_age</code> </span>between 1-15 find the best selling <span><code>make</code> </span>of cars of <span>&nbsp;</span><span><code>type</code> =</span><span>&nbsp;</span><em>“sedan” </em>and calculate the <strong>average price</strong> for each <span>&nbsp;</span><code><span>condition</span></code> for cars of this <code>make</code> and <code>type</code>.</p>\n",
    "<p>Use number of ads published to determine best selling status. Return 0 for any age/condition combination where there are no matches. Round prices to whole number (integer).</p>\n",
    "<h2>Input format</h2>\n",
    "<div class=\"input-specification\"><span>A dataframe with the<strong>&nbsp;</strong>correct result of the E1 problem (already located in the working directory)</span>.</div>\n",
    "<h2>Output format</h2>\n",
    "<div class=\"output-specification\">\n",
    "  <p><span>A pandas dataframe, containing 15 lines in the following format:&nbsp;</span></p>\n",
    "  <p><code><span>&lt;vehicle_age&gt; &lt;make&gt; &lt;avg price condition=5&gt; &lt;avg price condition=4&gt;</span><span>&nbsp;</span><span>&lt;avg price condition=3&gt; &lt;avg price condition=2&gt; &lt;avg price condition=1&gt;</span><span>&nbsp;</span><span>&lt;avg price condition=0&gt;</span></code></p>\n",
    "  <p><span>The lines should be in ascending age order (1, 2, …, 15). The names of the columns: ['vehicle_age', 'make', 'avg_price_5', 'avg_price_4', 'avg_price_3', 'avg_price_2', 'avg_price_1', 'avg_price_0']</span></p>\n",
    "  <h3>Example (<code>vehicle_age=20</code>):</h3>\n",
    "  <div>\n",
    "    <table cellpadding=\"0\" cellspacing=\"0\" width=\"720\" border=\"0\" style=\"border-collapse: collapse; margin-left: auto; margin-right: auto;\">\n",
    "      <tbody>\n",
    "        <tr style=\"height: 28,80pt;\">\n",
    "          <td height=\"48\" width=\"90\" style=\"text-align: center; border: 2px solid #fff;\" class=\"et2\"><strong>vehicle_age</strong></td>\n",
    "          <td width=\"90\" style=\"text-align: center; border: 2px solid #fff;\" class=\"et2\"><strong>make</strong></td>\n",
    "          <td width=\"90\" style=\"text-align: center; border: 2px solid #fff;\" class=\"et2\"><strong>avg_price_5</strong></td>\n",
    "          <td width=\"90\" style=\"text-align: center; border: 2px solid #fff;\" class=\"et2\"><strong>avg_price_4</strong></td>\n",
    "          <td width=\"90\" style=\"text-align: center; border: 2px solid #fff;\" class=\"et2\"><strong>avg_price_3</strong></td>\n",
    "          <td width=\"90\" style=\"text-align: center; border: 2px solid #fff;\" class=\"et2\"><strong>avg_price_2</strong></td>\n",
    "          <td width=\"90\" style=\"text-align: center; border: 2px solid #fff;\" class=\"et2\"><strong>avg_price_1</strong></td>\n",
    "          <td width=\"90\" style=\"text-align: center; border: 2px solid #fff;\" class=\"et2\"><strong>avg_price_0</strong></td>\n",
    "        </tr>\n",
    "        <tr style=\"text-align: center;\">\n",
    "          <td height=\"24\" width=\"90\" align=\"right\" style=\"text-align: center; border: 2px solid #fff;\" class=\"et3\">20</td>\n",
    "          <td width=\"90\" style=\"width: 54,00pt; border: 2px solid #fff;\" class=\"et3\">toyota</td>\n",
    "          <td width=\"90\" align=\"right\" style=\"text-align: center; border: 2px solid #fff;\" class=\"et3\">0</td>\n",
    "          <td width=\"90\" align=\"right\" style=\"text-align: center; border: 2px solid #fff;\" class=\"et3\">5995</td>\n",
    "          <td width=\"90\" align=\"right\" style=\"text-align: center; border: 2px solid #fff;\" class=\"et3\">3219</td>\n",
    "          <td width=\"90\" align=\"right\" style=\"text-align: center; border: 2px solid #fff;\" class=\"et3\">2402</td>\n",
    "          <td width=\"90\" align=\"right\" style=\"text-align: center; border: 2px solid #fff;\" class=\"et3\">1450</td>\n",
    "          <td width=\"90\" align=\"right\" style=\"text-align: center; border: 2px solid #fff;\" class=\"et3\">0</td>\n",
    "        </tr>\n",
    "      </tbody>\n",
    "    </table>\n",
    "  </div>\n",
    "</div>\n",
    "<h2>Notes</h2>\n",
    "<div class=\"notes\">Maximum points for question E2:<strong> 10</strong> points.<!--l. 80--></div>\n",
    "<div class=\"notes\">\n",
    "  <p style=\"text-indent: 0em;\"><span style=\"font-weight: bold;\">Reminder: </span>You must select 2 out of 3 questions in programming section: Ski (D), Vehicles (E), Telecom (F), and answer both selected questions as fully as possible (for example, if you choose Ski and Telecom, you should answer questions D1, D2, D3 and F1, F2, F3).</p>\n",
    "</div>"
   ]
  },
  {
   "cell_type": "code",
   "execution_count": null,
   "id": "c28d2f52-388b-4716-a9d2-58478726e3fa",
   "metadata": {},
   "outputs": [],
   "source": [
    "### Initial candidate answer code"
   ]
  },
  {
   "cell_type": "code",
   "execution_count": null,
   "id": "58629c83-ef0d-462f-90b3-6440fb19f78d",
   "metadata": {},
   "outputs": [],
   "source": [
    "# Use print(\"Debug messages...\") to debug your solution.\n",
    "\n",
    "def solution(df):\n",
    "    # Your code goes here\n",
    "    return 0"
   ]
  },
  {
   "cell_type": "code",
   "execution_count": null,
   "id": "808a70f2-2fbd-4be8-ae51-a1919143c75f",
   "metadata": {},
   "outputs": [],
   "source": [
    "### Initial candidate test code"
   ]
  },
  {
   "cell_type": "code",
   "execution_count": null,
   "id": "32affb6b-e85d-474c-9af7-ad60936baffb",
   "metadata": {},
   "outputs": [],
   "source": [
    "# To use the candidate's code, import the module Answer\n",
    "import Answer\n",
    "import numpy as np\n",
    "import pandas as pd\n",
    "from datetime import datetime\n",
    "\n",
    "# ##DISPLAY_BEGIN##\n",
    "\n",
    "vehicles = pd.read_csv('/tmp/deps/E1_result.csv', sep=\",\")\n",
    "\n",
    "print(vehicles.head())\n",
    "\n",
    "print(Answer.solution(vehicles)) \n",
    "\n",
    "# ##DISPLAY_END##"
   ]
  },
  {
   "cell_type": "code",
   "execution_count": null,
   "id": "1a64ec3a-cf86-4a60-943b-bf11e41d688f",
   "metadata": {},
   "outputs": [],
   "source": [
    "### Code validator"
   ]
  },
  {
   "cell_type": "code",
   "execution_count": null,
   "id": "105f8911-cb9a-457c-8f2c-da1dcfb53705",
   "metadata": {},
   "outputs": [],
   "source": [
    "# Add functions to this file, one for each method defined in \n",
    "# the Validators declared at the bottom of the page.\n",
    "\n",
    "# Use assert (condition) to validate/unvalidate the candidate's answer which is\n",
    "# in the Answer module\n",
    "from tests import get_data\n",
    "import Answer\n",
    "import pandas as pd\n",
    "import numpy as np\n",
    "\n",
    "\n",
    "# TEST DATA\n",
    "q,a = get_data()\n",
    "\n",
    "sol = Answer.solution(q)\n",
    "\n",
    "# The number of rows/columns is correct\n",
    "# (weight = 1)\n",
    "def numcolumnsValidation():\n",
    "    return np.testing.assert_array_equal(sol.shape,a.shape)\n",
    "\n",
    "# The best selling make of sedan cars is found correctly\n",
    "# (weight = 3)\n",
    "def makeValidation():\n",
    "    return pd.util.testing.assert_frame_equal(sol[['make']], a[['make']])\n",
    "\n",
    "# The average prices are found correctly\n",
    "# (weight = 3)\n",
    "def bestSellValidation():\n",
    "    return pd.util.testing.assert_frame_equal(sol[['avg_price_5','avg_price_4','avg_price_3','avg_price_2', 'avg_price_1', 'avg_price_0']], a[['avg_price_5','avg_price_4','avg_price_3','avg_price_2', 'avg_price_1', 'avg_price_0']])"
   ]
  },
  {
   "cell_type": "code",
   "execution_count": null,
   "id": "95cc709f-8460-412a-8242-ba58f2c96a6c",
   "metadata": {},
   "outputs": [],
   "source": [
    "### Possible solution"
   ]
  },
  {
   "cell_type": "code",
   "execution_count": null,
   "id": "33a79a40-9400-4e78-8286-47101136b332",
   "metadata": {},
   "outputs": [],
   "source": [
    "import pandas as pd\n",
    "\n",
    "def res(df,age,make):\n",
    "    return df[(df['vehicle_age']==age)&(df['make']==make)&(df['type']=='sedan')].groupby('condition').price.mean().round().astype('int').reindex([5,4,3,2,1,0],fill_value=0).to_list()\n",
    "\n",
    "def solution(df):\n",
    "    df['make'] = df['model'].apply(lambda x: x.split()[0])\n",
    "    df_bs = df[(df['vehicle_age']<=15) & (df['vehicle_age']>=1) & (df['type']=='sedan')]\n",
    "    bestsell = df_bs.groupby(['vehicle_age', 'make']).size().sort_values().groupby(level=0).tail(1).reset_index().sort_values(['vehicle_age']).iloc[:,:-1].reset_index(drop=True)\n",
    "    result = bestsell.apply(lambda x: res(df, x.iloc[0], x.iloc[1]), axis=1)\n",
    "    bestsell[['avg_price_5','avg_price_4','avg_price_3','avg_price_2', 'avg_price_1', 'avg_price_0']] = pd.DataFrame.from_records(result).reset_index(drop=True)\n",
    "    return bestsell"
   ]
  }
 ],
 "metadata": {
  "kernelspec": {
   "display_name": "Python 3",
   "language": "python",
   "name": "python3"
  },
  "language_info": {
   "codemirror_mode": {
    "name": "ipython",
    "version": 3
   },
   "file_extension": ".py",
   "mimetype": "text/x-python",
   "name": "python",
   "nbconvert_exporter": "python",
   "pygments_lexer": "ipython3",
   "version": "3.8.8"
  }
 },
 "nbformat": 4,
 "nbformat_minor": 5
}
