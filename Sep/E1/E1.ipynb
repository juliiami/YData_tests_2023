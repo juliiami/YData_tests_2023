{
 "cells": [
  {
   "cell_type": "markdown",
   "id": "3981cf78-b9c1-4eb2-ad12-c485afb525db",
   "metadata": {},
   "source": [
    "<h1 class=\"title\"><span>(E1)&nbsp;</span>Countries: Preprocess</h1>\n",
    "<div><span>To solve this question you are required to <strong>write</strong></span><span><strong>&nbsp;code</strong>, </span><span>processing an input ﬁle.</span></div>\n",
    "<p>You are provided the ﬁle<span>&nbsp;<span style=\"font-family: monospace;\">countries_data.csv</span></span>, uploaded into the working directory.&nbsp;</p>\n",
    "<p>This is a data comparing diﬀerent countries in the world based on several social and economical parameters across the years 2016-2019.</p>\n",
    "<p>Clean the data and prepare it in the following manner:</p>\n",
    "<ul>\n",
    "  <li><span></span>Clean up the <code>Region</code> column: Some countries have their region in incorrect format. e.g. \"WEst euROpe\" instead of \"west europe\". Correct these entries to match standard format. List of regions:\n",
    "    <ul>\n",
    "      <li><span></span>australia and new zealand</li>\n",
    "      <li><span></span>central and east europe</li>\n",
    "      <li><span></span>east asia</li>\n",
    "      <li><span></span>latin america and caribbean</li>\n",
    "      <li><span></span>middle east and north africa</li>\n",
    "      <li><span></span>north america</li>\n",
    "      <li><span></span>southeast africa</li>\n",
    "      <li><span></span>southeast asia</li>\n",
    "      <li><span></span>south asia</li>\n",
    "      <li><span></span>sub-saharan africa</li>\n",
    "      <li><span></span>west europe</li>\n",
    "    </ul>\n",
    "  </li>\n",
    "  <li><span></span>Deal with missing values:\n",
    "    <ul>\n",
    "      <li><span></span>Calculate the average of each column for each region. Round your results to <strong>2 decimal digits</strong></li>\n",
    "      <li><span></span>Fill missing numeric values in each column with the average for that region.</li>\n",
    "    </ul>\n",
    "  </li>\n",
    "</ul>\n",
    "<h2>Input format</h2>\n",
    "<div class=\"input-specification\"><span>A ﬁle <span style=\"font-family: monospace;\">countries_data.csv</span></span><span>, which should be processed.</span></div>\n",
    "<h2>Output format</h2>\n",
    "<div class=\"output-specification\"><span>Write code, processing the input file</span><span>. <strong>Do not add, rename or reorder columns or rows</strong> in the ﬁle. An output should contain <strong>a pandas dataframe</strong>.</span></div>\n",
    "<h2>Notes</h2>\n",
    "<div class=\"notes\">Maximum points for question E1:<strong> 7</strong> points.<!--l. 80--></div>\n",
    "<div class=\"notes\">&nbsp;</div>\n",
    "<div class=\"notes\">\n",
    "  <p style=\"text-indent: 0em;\"><span style=\"font-weight: bold;\">Reminder: </span>You must select 2 out of 3 questions in programming section: Sums (D), Countries (E), Streaming (F), and answer both selected questions as fully as possible (for example, if you choose Sums and Streaming, you should answer questions D1, D2, D3 and F1, F2, F3).</p>\n",
    "</div>"
   ]
  },
  {
   "cell_type": "code",
   "execution_count": null,
   "id": "c28d2f52-388b-4716-a9d2-58478726e3fa",
   "metadata": {},
   "outputs": [],
   "source": [
    "### Initial candidate answer code"
   ]
  },
  {
   "cell_type": "code",
   "execution_count": null,
   "id": "58629c83-ef0d-462f-90b3-6440fb19f78d",
   "metadata": {},
   "outputs": [],
   "source": [
    "# Use print(\"Debug messages...\") to debug your solution.\n",
    "\n",
    "def solution(countries):\n",
    "    # Your code goes here\n",
    "    return 0"
   ]
  },
  {
   "cell_type": "code",
   "execution_count": null,
   "id": "808a70f2-2fbd-4be8-ae51-a1919143c75f",
   "metadata": {},
   "outputs": [],
   "source": [
    "### Initial candidate test code"
   ]
  },
  {
   "cell_type": "code",
   "execution_count": null,
   "id": "32affb6b-e85d-474c-9af7-ad60936baffb",
   "metadata": {},
   "outputs": [],
   "source": [
    "# To use the candidate's code, import the module Answer\n",
    "import Answer\n",
    "import numpy as np\n",
    "import pandas as pd\n",
    "from datetime import datetime\n",
    "# ##DISPLAY_BEGIN##\n",
    "\n",
    "countries = pd.read_csv('/tmp/deps/countries_data.csv', sep=\",\")\n",
    "print(countries.head())\n",
    "\n",
    "result = Answer.solution(countries)\n",
    "print(result.head())\n",
    "print(result.Region.unique())\n",
    "\n",
    "# ##DISPLAY_END##"
   ]
  },
  {
   "cell_type": "code",
   "execution_count": null,
   "id": "1a64ec3a-cf86-4a60-943b-bf11e41d688f",
   "metadata": {},
   "outputs": [],
   "source": [
    "### Code validator"
   ]
  },
  {
   "cell_type": "code",
   "execution_count": null,
   "id": "105f8911-cb9a-457c-8f2c-da1dcfb53705",
   "metadata": {},
   "outputs": [],
   "source": [
    "# Add functions to this file, one for each method defined in \n",
    "# the Validators declared at the bottom of the page.\n",
    "\n",
    "# Use assert (condition) to validate/unvalidate the candidate's answer which is\n",
    "# in the Answer module\n",
    "from tests import get_data\n",
    "import Answer\n",
    "import pandas as pd\n",
    "import numpy as np\n",
    "\n",
    "\n",
    "# TEST DATA\n",
    "q,a = get_data()\n",
    "\n",
    "sol = Answer.solution(q)\n",
    "\n",
    "# The number of rows/columns is correct\n",
    "# (weight = 1)\n",
    "def numcolumnsValidation():\n",
    "    return np.testing.assert_array_equal(sol.shape,a.shape)\n",
    "\n",
    "# Region is calculated correctly\n",
    "# (weight = 2)\n",
    "def regionValidation():\n",
    "    return pd.util.testing.assert_frame_equal(sol[['Region']], a[['Region']])\n",
    "\n",
    "# Average values are calculated correctly\n",
    "# (weight = 3)\n",
    "def avgValidation():\n",
    "    return pd.util.testing.assert_frame_equal(sol.iloc[:,4:], a.iloc[:,4:])"
   ]
  },
  {
   "cell_type": "code",
   "execution_count": null,
   "id": "95cc709f-8460-412a-8242-ba58f2c96a6c",
   "metadata": {},
   "outputs": [],
   "source": [
    "### Possible solution"
   ]
  },
  {
   "cell_type": "code",
   "execution_count": null,
   "id": "33a79a40-9400-4e78-8286-47101136b332",
   "metadata": {},
   "outputs": [],
   "source": [
    "import pandas as pd\n",
    "\n",
    "def solution(countries):\n",
    "    countries.Region = [countries.Region[i].lower() for i in range(countries.shape[0])]\n",
    "    for i in countries.columns[4:]:\n",
    "        countries[i] = countries.groupby('Region')[i].transform(lambda x: x.fillna(round(x.mean(),2)))\n",
    "    return countries\n",
    "\n",
    "#def solution(countries):\n",
    "#    countries.Region = [countries.Region[i].lower() for i in range(countries.shape[0])]\n",
    "#    for i in countries.columns[4:]:\n",
    "#        means = round(countries.groupby('Region')[i].mean(),2)\n",
    "#        x = countries.merge(means, how='left', left_on='Region', right_on='Region').iloc[:,-1]\n",
    "#       countries.loc[countries[i].isna(),i] = x.loc[countries[i].isna()]\n",
    "#    return countries"
   ]
  }
 ],
 "metadata": {
  "kernelspec": {
   "display_name": "Python 3",
   "language": "python",
   "name": "python3"
  },
  "language_info": {
   "codemirror_mode": {
    "name": "ipython",
    "version": 3
   },
   "file_extension": ".py",
   "mimetype": "text/x-python",
   "name": "python",
   "nbconvert_exporter": "python",
   "pygments_lexer": "ipython3",
   "version": "3.8.8"
  }
 },
 "nbformat": 4,
 "nbformat_minor": 5
}
