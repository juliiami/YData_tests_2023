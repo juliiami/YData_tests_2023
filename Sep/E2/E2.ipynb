{
 "cells": [
  {
   "cell_type": "markdown",
   "id": "3981cf78-b9c1-4eb2-ad12-c485afb525db",
   "metadata": {},
   "source": [
    "<h1 class=\"title\"><span>(E2)&nbsp;</span>Countries: Regions</h1>\n",
    "<div><span>To solve this question you are required to <strong>write</strong></span><span><strong>&nbsp;code</strong>, </span><span>processing an input ﬁle.</span></div>\n",
    "<p><span>Use the dataset from the previous question (<strong>the correct result of E1</strong>),</span>&nbsp;uploaded into the working directory.&nbsp;</p>\n",
    "<div>\n",
    "  <p>Explore the changes over time in countries’ scores. Compare the rankings for the year 2016 to those for 2019 by region and answer the following question: For each <code>Region</code>, which <code>Country</code> had the maximum improvement in <code>Yearly_rank</code> between 2016 and 2019?</p>\n",
    "  <p>If there are several countries with the same maximum improvement in a region, return them all. If any countries are missing scores for one or both of the years, omit them from the calculation.</p>\n",
    "  <p>Print out the top ranking countries from all regions in alphabetic order:</p>\n",
    "  <p>Example (not correct values):</p>\n",
    "  <p><code>['Afghanistan', 'Albania', 'Algeria', 'Angola', 'Argentina', 'Australia', 'Belgium', 'Brazil']</code></p>\n",
    "</div>\n",
    "<h2>Input format</h2>\n",
    "<div class=\"input-specification\"><span><span style=\"font-family: monospace;\">countries.csv</span> (</span>A pre-processed ﬁle as result of E1 which served as the data for this task<span>).</span></div>\n",
    "<h2>Output format</h2>\n",
    "<div class=\"output-specification\">\n",
    "  <p>A list of top countries in alphabetic order.</p>\n",
    "</div>\n",
    "<h2>Notes</h2>\n",
    "<div class=\"notes\">Maximum points for question E2:<strong> 10</strong>&nbsp;points.<!--l. 80--></div>\n",
    "<div class=\"notes\">&nbsp;</div>\n",
    "<div class=\"notes\">\n",
    "  <p style=\"text-indent: 0em;\"><span style=\"font-weight: bold;\">Reminder: </span>You must select 2 out of 3 questions in programming section: Sums (D), Countries (E), Streaming (F), and answer both selected questions as fully as possible (for example, if you choose Sums and Streaming, you should answer questions D1, D2, D3 and F1, F2, F3).</p>\n",
    "</div>"
   ]
  },
  {
   "cell_type": "code",
   "execution_count": null,
   "id": "c28d2f52-388b-4716-a9d2-58478726e3fa",
   "metadata": {},
   "outputs": [],
   "source": [
    "### Initial candidate answer code"
   ]
  },
  {
   "cell_type": "code",
   "execution_count": null,
   "id": "58629c83-ef0d-462f-90b3-6440fb19f78d",
   "metadata": {},
   "outputs": [],
   "source": [
    "# Use print(\"Debug messages...\") to debug your solution.\n",
    "\n",
    "def solution(countries):\n",
    "    # Your code goes here\n",
    "    return 0"
   ]
  },
  {
   "cell_type": "code",
   "execution_count": null,
   "id": "808a70f2-2fbd-4be8-ae51-a1919143c75f",
   "metadata": {},
   "outputs": [],
   "source": [
    "### Initial candidate test code"
   ]
  },
  {
   "cell_type": "code",
   "execution_count": null,
   "id": "32affb6b-e85d-474c-9af7-ad60936baffb",
   "metadata": {},
   "outputs": [],
   "source": [
    "# To use the candidate's code, import the module Answer\n",
    "import Answer\n",
    "import numpy as np\n",
    "import pandas as pd\n",
    "from datetime import datetime\n",
    "# ##DISPLAY_BEGIN##\n",
    "\n",
    "countries = pd.read_csv('/tmp/deps/countries.csv', sep=\",\")\n",
    "print(countries.head())\n",
    "\n",
    "result = Answer.solution(countries)\n",
    "print(result)\n",
    "\n",
    "# ##DISPLAY_END##"
   ]
  },
  {
   "cell_type": "code",
   "execution_count": null,
   "id": "1a64ec3a-cf86-4a60-943b-bf11e41d688f",
   "metadata": {},
   "outputs": [],
   "source": [
    "### Code validator"
   ]
  },
  {
   "cell_type": "code",
   "execution_count": null,
   "id": "105f8911-cb9a-457c-8f2c-da1dcfb53705",
   "metadata": {},
   "outputs": [],
   "source": [
    "# Add functions to this file, one for each method defined in \n",
    "# the Validators declared at the bottom of the page.\n",
    "\n",
    "# Use assert (condition) to validate/unvalidate the candidate's answer which is\n",
    "# in the Answer module\n",
    "from tests import get_data\n",
    "import Answer\n",
    "import pandas as pd\n",
    "import numpy as np\n",
    "\n",
    "\n",
    "# TEST DATA\n",
    "q,a = get_data()\n",
    "\n",
    "sol = Answer.solution(q)\n",
    "\n",
    "# The number of countries is correct\n",
    "# (weight = 1)\n",
    "def lengthValidation():\n",
    "    return np.testing.assert_array_equal(len(sol),len(a))\n",
    "\n",
    "# The list of countries is correct\n",
    "# (weight = 5)\n",
    "def listValidation():\n",
    "    return np.testing.assert_array_equal(sol,a)"
   ]
  },
  {
   "cell_type": "code",
   "execution_count": null,
   "id": "95cc709f-8460-412a-8242-ba58f2c96a6c",
   "metadata": {},
   "outputs": [],
   "source": [
    "### Possible solution"
   ]
  },
  {
   "cell_type": "code",
   "execution_count": null,
   "id": "33a79a40-9400-4e78-8286-47101136b332",
   "metadata": {},
   "outputs": [],
   "source": [
    "import pandas as pd\n",
    "\n",
    "def rank_change(df):\n",
    "    if (len(df[df.Year==2019])!=0)&(len(df[df.Year==2016])!=0):\n",
    "        result = df[df.Year==2019].Yearly_rank.values[0]-df[df.Year==2016].Yearly_rank.values[0]\n",
    "    else: \n",
    "        result = float('nan')\n",
    "    return(result)\n",
    "\n",
    "def solution(countries):\n",
    "    #countries.Region = [countries.Region[i].lower() for i in range(countries.shape[0])]\n",
    "    res = countries[(countries.Year==2019)|(countries.Year==2016)].groupby(['Country','Region']).apply(rank_change).reset_index()\n",
    "    res.columns = ['Country', 'Region', 'Value']\n",
    "    res.dropna(inplace=True)\n",
    "    res = res.groupby('Region')['Value'].min().reset_index().merge(res)\n",
    "    return(res.Country.sort_values().to_list())"
   ]
  }
 ],
 "metadata": {
  "kernelspec": {
   "display_name": "Python 3",
   "language": "python",
   "name": "python3"
  },
  "language_info": {
   "codemirror_mode": {
    "name": "ipython",
    "version": 3
   },
   "file_extension": ".py",
   "mimetype": "text/x-python",
   "name": "python",
   "nbconvert_exporter": "python",
   "pygments_lexer": "ipython3",
   "version": "3.8.8"
  }
 },
 "nbformat": 4,
 "nbformat_minor": 5
}
